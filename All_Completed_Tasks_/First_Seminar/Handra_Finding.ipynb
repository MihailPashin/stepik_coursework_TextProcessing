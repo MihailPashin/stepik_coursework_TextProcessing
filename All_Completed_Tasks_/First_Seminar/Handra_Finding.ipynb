{
 "cells": [
  {
   "cell_type": "markdown",
   "id": "c9d501b4-8984-4fff-921b-fea59708a05c",
   "metadata": {},
   "source": [
    "## Задача Классификация (бинарная). \n",
    "- Датасет, на котором решается задача - это набор данных, содержащий сообщения людей в соц. сетей - vkontakte.\n",
    "- Каждое сообщение хранится с меткой 0 или 1. 0 - это Тематика без хандры, Единица - рассуждения в состоянии хандры\n",
    "- Ссылка на датасет [https://www.sciencedirect.com/science/article/pii/S2352340920300895]\n",
    "\n"
   ]
  },
  {
   "cell_type": "code",
   "execution_count": 1,
   "id": "b8e18f66-bdad-4a37-aa53-b1057de526a9",
   "metadata": {},
   "outputs": [
    {
     "data": {
      "text/plain": [
       "'\\nimport dlnlputils\\nfrom dlnlputils.data import tokenize_text_simple_regex, tokenize_corpus, build_vocabulary,     vectorize_texts, SparseFeaturesDataset\\nfrom dlnlputils.pipeline import train_eval_loop, predict_with_model, init_random_seed\\n\\ninit_random_seed()\\n'"
      ]
     },
     "execution_count": 1,
     "metadata": {},
     "output_type": "execute_result"
    }
   ],
   "source": [
    "\n",
    "\n",
    "import warnings\n",
    "warnings.filterwarnings('ignore')\n",
    "\n",
    "from sklearn.datasets import fetch_20newsgroups\n",
    "from sklearn.metrics import accuracy_score\n",
    "from sklearn.model_selection import train_test_split\n",
    "\n",
    "import numpy as np\n",
    "import scipy\n",
    "import matplotlib.pyplot as plt\n",
    "%matplotlib inline\n",
    "\n",
    "import pandas as pd\n",
    "import collections\n",
    "import torch\n",
    "from torch import nn\n",
    "from torch.nn import functional as F\n",
    "import re\n",
    "'''\n",
    "import dlnlputils\n",
    "from dlnlputils.data import tokenize_text_simple_regex, tokenize_corpus, build_vocabulary, \\\n",
    "    vectorize_texts, SparseFeaturesDataset\n",
    "from dlnlputils.pipeline import train_eval_loop, predict_with_model, init_random_seed\n",
    "\n",
    "init_random_seed()\n",
    "'''\n"
   ]
  },
  {
   "cell_type": "code",
   "execution_count": 3,
   "id": "cab4e0b9-61ac-4835-978f-eed1233eb125",
   "metadata": {},
   "outputs": [],
   "source": [
    "df = pd.read_excel('../dataset/Handra_Finding.xlsx')"
   ]
  },
  {
   "cell_type": "code",
   "execution_count": 4,
   "id": "bffe34ae-bb2a-47e4-a4e4-116efef3986e",
   "metadata": {},
   "outputs": [
    {
     "data": {
      "text/html": [
       "<div>\n",
       "<style scoped>\n",
       "    .dataframe tbody tr th:only-of-type {\n",
       "        vertical-align: middle;\n",
       "    }\n",
       "\n",
       "    .dataframe tbody tr th {\n",
       "        vertical-align: top;\n",
       "    }\n",
       "\n",
       "    .dataframe thead th {\n",
       "        text-align: right;\n",
       "    }\n",
       "</style>\n",
       "<table border=\"1\" class=\"dataframe\">\n",
       "  <thead>\n",
       "    <tr style=\"text-align: right;\">\n",
       "      <th></th>\n",
       "      <th>text</th>\n",
       "      <th>label</th>\n",
       "      <th>age</th>\n",
       "    </tr>\n",
       "  </thead>\n",
       "  <tbody>\n",
       "    <tr>\n",
       "      <th>0</th>\n",
       "      <td>Когда-то я был добрым романтиком, который стре...</td>\n",
       "      <td>1</td>\n",
       "      <td>32.0</td>\n",
       "    </tr>\n",
       "    <tr>\n",
       "      <th>1</th>\n",
       "      <td>Здраствуйте! Я каждый день просыпаюсь с мыслью...</td>\n",
       "      <td>1</td>\n",
       "      <td>28.0</td>\n",
       "    </tr>\n",
       "  </tbody>\n",
       "</table>\n",
       "</div>"
      ],
      "text/plain": [
       "                                                text  label   age\n",
       "0  Когда-то я был добрым романтиком, который стре...      1  32.0\n",
       "1  Здраствуйте! Я каждый день просыпаюсь с мыслью...      1  28.0"
      ]
     },
     "execution_count": 4,
     "metadata": {},
     "output_type": "execute_result"
    }
   ],
   "source": [
    "df.head(2)"
   ]
  },
  {
   "cell_type": "code",
   "execution_count": 5,
   "id": "eaa3dffa-2b59-4cfd-b0e1-392c854e8ed5",
   "metadata": {},
   "outputs": [
    {
     "data": {
      "text/plain": [
       "'В этом году издавать экзамены . Мне 14 ... Живу с бабушкой мама с папой в разводе и почти не общаемся .'"
      ]
     },
     "execution_count": 5,
     "metadata": {},
     "output_type": "execute_result"
    }
   ],
   "source": [
    "df['text'][17]"
   ]
  },
  {
   "cell_type": "code",
   "execution_count": 6,
   "id": "14208d31-9f06-46e3-b9eb-83272fa96841",
   "metadata": {},
   "outputs": [],
   "source": [
    "X= df['text'].reset_index(drop=True)\n",
    "y=df['label'].reset_index(drop=True)"
   ]
  },
  {
   "cell_type": "code",
   "execution_count": 7,
   "id": "8edc5bb7-f73a-4f44-ad52-606ab17f964a",
   "metadata": {},
   "outputs": [
    {
     "data": {
      "text/plain": [
       "'хронически \"не везет\". С детства у меня черная полоса. Во дворе насмехались и обзывались, в школе игнорили и травили, ничего не мог сделать,был слабаком,часто болел,сидел дома,читал книжки,в 9кл.занялся рукопашкой,немного стал покрепче,но запустил учебу и не поступил в институт,в итоге пошел в колледж(экономический),называли ботаном в колледже 3 года,даже преподы подшучивали,кое-как закончил.Замкнулся,ни с кем не общался,вообще не умею общаться,знакомится(с девушками тем более),нету интересов никаких,сижу уже 5 лет дома,читаю книжки и смотрю фильмы, не могу устроиться на работу,хотя уже опыт есть маленько работал дворником в лагере,хотел вожатым - не взяли,опять невезение, других берут, а мне \"шиш\".,потом устроился в книжный магазин,не сработался с начальницей,куда теперь идти не знаю...родители говорят иди учись,а я не могу,нету сил,да и поздно уже в 28, не знаю чего хочу в жизни,нету цели,кругом пустота какая-то,все куда-то бегут,торопятся,суетятся,я просто не вписываюсь в эту жизнь,-неуклюжий,медлительный.все меня пинают.надоело...'"
      ]
     },
     "execution_count": 7,
     "metadata": {},
     "output_type": "execute_result"
    }
   ],
   "source": [
    "X[13]"
   ]
  },
  {
   "cell_type": "code",
   "execution_count": 8,
   "id": "38992dfd-877d-4ce8-8a54-b0cf11c5b449",
   "metadata": {},
   "outputs": [
    {
     "data": {
      "text/plain": [
       "{'text': dtype('O'), 'label': dtype('int64'), 'age': dtype('float64')}"
      ]
     },
     "execution_count": 8,
     "metadata": {},
     "output_type": "execute_result"
    }
   ],
   "source": [
    "dict(df.dtypes)"
   ]
  },
  {
   "cell_type": "code",
   "execution_count": 9,
   "id": "b6be7f80-2e39-4d16-94d3-bf73318630bd",
   "metadata": {},
   "outputs": [],
   "source": [
    "#Классы сбалансированны. Достаточно метрики Accuracy"
   ]
  },
  {
   "cell_type": "code",
   "execution_count": 10,
   "id": "6a089daf-7987-4f51-8380-ac7f4a4f69b1",
   "metadata": {},
   "outputs": [
    {
     "data": {
      "text/plain": [
       "label\n",
       "0    32021\n",
       "1    32018\n",
       "Name: count, dtype: int64"
      ]
     },
     "execution_count": 10,
     "metadata": {},
     "output_type": "execute_result"
    }
   ],
   "source": [
    "y.value_counts()"
   ]
  },
  {
   "cell_type": "code",
   "execution_count": 11,
   "id": "699c8fdb-4119-4a39-b1a1-b0c21ddc5dea",
   "metadata": {},
   "outputs": [],
   "source": [
    "X = X.astype(str) "
   ]
  },
  {
   "cell_type": "code",
   "execution_count": 12,
   "id": "202dc437-144f-4c5b-9964-393e5800b402",
   "metadata": {},
   "outputs": [],
   "source": [
    "X_train, X_test, y_train, y_test = train_test_split(\n",
    "  X,y , random_state=104,test_size=0.25, shuffle=True)"
   ]
  },
  {
   "cell_type": "code",
   "execution_count": 13,
   "id": "3954ce7e-f62f-4f5a-b3e8-15d9f5463106",
   "metadata": {},
   "outputs": [
    {
     "data": {
      "text/plain": [
       "'\\n'"
      ]
     },
     "execution_count": 13,
     "metadata": {},
     "output_type": "execute_result"
    }
   ],
   "source": [
    "TOKEN_RE = re.compile(r'[\\w\\d]+')\n",
    "\n",
    "def tokenize_text_simple_regex(txt, min_token_size=4):\n",
    "    #print(txt)\n",
    "    txt = txt.lower()\n",
    "    all_tokens = TOKEN_RE.findall(txt)\n",
    "    return [token for token in all_tokens if len(token) >= min_token_size]\n",
    "\n",
    "def character_tokenize(txt): \n",
    "    return list(txt)\n",
    "\n",
    "def tokenize_corpus(texts, tokenizer=tokenize_text_simple_regex, **tokenizer_kwargs): \n",
    "    #print(texts)\n",
    "    return [tokenizer(text, **tokenizer_kwargs) for text in texts]\n",
    "'''\n",
    "'''"
   ]
  },
  {
   "cell_type": "code",
   "execution_count": 14,
   "id": "eac9d91f-e1f2-4ff9-930e-d3779fc1947f",
   "metadata": {},
   "outputs": [
    {
     "data": {
      "text/plain": [
       "re.compile(r'[\\w\\d]+', re.UNICODE)"
      ]
     },
     "execution_count": 14,
     "metadata": {},
     "output_type": "execute_result"
    }
   ],
   "source": [
    "TOKEN_RE"
   ]
  },
  {
   "cell_type": "code",
   "execution_count": 15,
   "id": "db493075-7bb0-45f1-8550-8b9e763f1510",
   "metadata": {},
   "outputs": [],
   "source": [
    "MAX_DF = 0.8\n",
    "MIN_COUNT = 5"
   ]
  },
  {
   "cell_type": "code",
   "execution_count": 16,
   "id": "291e52a4-7ad6-475f-b252-482a0cd02d78",
   "metadata": {},
   "outputs": [],
   "source": [
    "X_train = X_train.reset_index(drop=True)\n",
    "X_test = X_test.reset_index(drop=True)\n",
    "y_train = y_train.reset_index(drop=True)\n",
    "y_test = y_test.reset_index(drop=True)"
   ]
  },
  {
   "cell_type": "code",
   "execution_count": 17,
   "id": "f0953e9f-9682-4aac-a656-249d1b6e5f1c",
   "metadata": {},
   "outputs": [
    {
     "data": {
      "text/plain": [
       "'Россия до 2025 года запустит 30 гражданских спутников\\n«Роскосмос» до 2025 года планирует запустить на орбиту 30 гражданских космических аппаратов для дистанционного зондирования Земли. Об этом информирует РИА Новости со ссылкой на сообщение\\xa0госкорпорации.\\nВ том числе планируется вывести на орбиту спутники серий «Метеор-М», «Электро-Л», «Арктика-М», «Ресурс-ПМ» и «Канопус-В».\\nОтмечается, что в настоящее время российская орбитальная группировка гражданских спутников дистанционного зондирования Земли состоит из 11 космических аппаратов, в том числе трёх гидрометеорологических, двух оптико-электронных природоресурсных и шести аппаратов для мониторинга чрезвычайных ситуаций.\\nРанее источник сообщил, что в конце мая состоится запуск ракеты «Протон-М» с телекоммуникационным спутником «Ямал-601» с космодрома Байконур.'"
      ]
     },
     "execution_count": 17,
     "metadata": {},
     "output_type": "execute_result"
    }
   ],
   "source": [
    "X_train[1]"
   ]
  },
  {
   "cell_type": "code",
   "execution_count": 18,
   "id": "9066f3ab-c8f6-409e-a96a-817ec7c06fa1",
   "metadata": {},
   "outputs": [],
   "source": [
    "train_tokenized = tokenize_corpus(X_train) \n",
    "test_tokenized = tokenize_corpus(X_test)\n"
   ]
  },
  {
   "cell_type": "code",
   "execution_count": 19,
   "id": "1eea037f-a4e3-45dc-91dc-5fa88d9fa3d7",
   "metadata": {},
   "outputs": [
    {
     "name": "stdout",
     "output_type": "stream",
     "text": [
      "уверен первый когда публично признал depression было здорово если поддерживает дать почту mentalhealthawarenessweek sicknotweakhttps twitter thegrumpyloaf status 1128780317983203330\n"
     ]
    }
   ],
   "source": [
    "print(' '.join(train_tokenized[5]))"
   ]
  },
  {
   "cell_type": "markdown",
   "id": "1acaecae-8813-43f0-8442-0970b0f5aa19",
   "metadata": {},
   "source": [
    "## Реализация через Sklearn"
   ]
  },
  {
   "cell_type": "code",
   "execution_count": 378,
   "id": "e722aeb0-9200-4448-9fec-49201b71746f",
   "metadata": {},
   "outputs": [],
   "source": [
    "from sklearn.feature_extraction.text import TfidfVectorizer\n",
    "from sklearn.pipeline import Pipeline\n",
    "from sklearn.linear_model import LogisticRegression\n",
    "\n",
    "sklearn_pipeline = Pipeline((('vect', TfidfVectorizer(tokenizer=tokenize_text_simple_regex,\n",
    "                                                        max_df=MAX_DF,\n",
    "                                                      min_df=MIN_COUNT)),\n",
    "                             ('cls', LogisticRegression())))\n",
    "sklearn_pipeline.fit(X_train, y_train);"
   ]
  },
  {
   "cell_type": "code",
   "execution_count": 379,
   "id": "4eb712b1-5bb5-435b-854d-93d12db737c7",
   "metadata": {},
   "outputs": [
    {
     "name": "stdout",
     "output_type": "stream",
     "text": [
      "<class 'pandas.core.series.Series'>\n",
      "RangeIndex: 48029 entries, 0 to 48028\n",
      "Series name: text\n",
      "Non-Null Count  Dtype \n",
      "--------------  ----- \n",
      "48029 non-null  object\n",
      "dtypes: object(1)\n",
      "memory usage: 375.4+ KB\n"
     ]
    }
   ],
   "source": [
    "X_train.info()"
   ]
  },
  {
   "cell_type": "markdown",
   "id": "c06666e5-1e35-4a5b-954d-a2d6b3b5b71d",
   "metadata": {},
   "source": [
    "## Качество Sklearn"
   ]
  },
  {
   "cell_type": "code",
   "execution_count": 380,
   "id": "961a8902-e1a5-4bd6-a72a-d477e5f547f8",
   "metadata": {},
   "outputs": [
    {
     "name": "stdout",
     "output_type": "stream",
     "text": [
      "Среднее значение функции потерь на обучении 0.34335006907395355\n",
      "Доля верных ответов 0.9933165379250036\n",
      "\n",
      "Среднее значение функции потерь на валидации 0.3462587837165152\n",
      "Доля верных ответов 0.988632104934416\n"
     ]
    }
   ],
   "source": [
    "sklearn_train_pred = sklearn_pipeline.predict_proba(X_train)\n",
    "sklearn_train_loss = F.cross_entropy(torch.from_numpy(sklearn_train_pred),\n",
    "                                                 torch.from_numpy(y_train.to_numpy()))\n",
    "print('Среднее значение функции потерь на обучении', float(sklearn_train_loss))\n",
    "print('Доля верных ответов', accuracy_score(y_train.to_numpy(), sklearn_train_pred.argmax(-1)))\n",
    "print()\n",
    "\n",
    "sklearn_test_pred = sklearn_pipeline.predict_proba(X_test)\n",
    "sklearn_test_loss = F.cross_entropy(torch.from_numpy(sklearn_test_pred),\n",
    "                                                torch.from_numpy(y_test.to_numpy()))\n",
    "print('Среднее значение функции потерь на валидации', float(sklearn_test_loss))\n",
    "print('Доля верных ответов', accuracy_score(y_test.to_numpy(), sklearn_test_pred.argmax(-1)))"
   ]
  },
  {
   "cell_type": "code",
   "execution_count": 381,
   "id": "1b3e26d4-8083-4993-9411-3269d84828b1",
   "metadata": {},
   "outputs": [
    {
     "data": {
      "text/plain": [
       "48029"
      ]
     },
     "execution_count": 381,
     "metadata": {},
     "output_type": "execute_result"
    }
   ],
   "source": [
    "len(X_train)"
   ]
  },
  {
   "cell_type": "code",
   "execution_count": 382,
   "id": "2b655c4c-1379-42f0-b312-2cd2ad02d0ab",
   "metadata": {},
   "outputs": [
    {
     "data": {
      "text/plain": [
       "48029"
      ]
     },
     "execution_count": 382,
     "metadata": {},
     "output_type": "execute_result"
    }
   ],
   "source": [
    "len(X_train)"
   ]
  },
  {
   "cell_type": "code",
   "execution_count": 383,
   "id": "b7cefab6-6b7c-4135-9233-eecb3baea5e0",
   "metadata": {},
   "outputs": [
    {
     "data": {
      "text/plain": [
       "'Большую часть пьедестала почета республиканского турнира по настольному теннису «Aktobe-2019» заняли спортсмены из России. Соревнование в честь Года молодежи и 150-летия Актобе проходило в течение двух дней во Дворце единоборств «Жекпе-жек». Турнир организован при поддержке АО «CNPC-Актобемунайгаз», в нем участвовало более 600 спортсменов из 10 регионов РК, а также из России – Оренбурга, Екатеринбурга и ...Сильная подача (видео) http://avestnik.kz/silnaya-podacha-video/ '"
      ]
     },
     "execution_count": 383,
     "metadata": {},
     "output_type": "execute_result"
    }
   ],
   "source": [
    "X_test[14]\n"
   ]
  },
  {
   "cell_type": "code",
   "execution_count": 384,
   "id": "cc670041-6237-4fb4-9e0c-9fe359a177f8",
   "metadata": {},
   "outputs": [
    {
     "data": {
      "text/plain": [
       "label\n",
       "1    8027\n",
       "0    7983\n",
       "Name: count, dtype: int64"
      ]
     },
     "execution_count": 384,
     "metadata": {},
     "output_type": "execute_result"
    }
   ],
   "source": [
    "y_test.value_counts()"
   ]
  },
  {
   "cell_type": "code",
   "execution_count": 385,
   "id": "90793146-bf79-4b35-9e18-1c4991405c78",
   "metadata": {},
   "outputs": [
    {
     "data": {
      "text/plain": [
       "array([0.98701386, 0.01298614])"
      ]
     },
     "execution_count": 385,
     "metadata": {},
     "output_type": "execute_result"
    }
   ],
   "source": [
    "sklearn_test_pred[14]"
   ]
  },
  {
   "cell_type": "code",
   "execution_count": 386,
   "id": "b016ef3e-44ea-4b72-8dc3-2962944d4a64",
   "metadata": {},
   "outputs": [
    {
     "data": {
      "text/plain": [
       "array([0])"
      ]
     },
     "execution_count": 386,
     "metadata": {},
     "output_type": "execute_result"
    }
   ],
   "source": [
    "sklearn_pipeline.predict([X_test[14]])"
   ]
  },
  {
   "cell_type": "code",
   "execution_count": 387,
   "id": "a6861055-614c-42c1-b9a0-813ae03d1ef0",
   "metadata": {},
   "outputs": [
    {
     "data": {
      "text/plain": [
       "0"
      ]
     },
     "execution_count": 387,
     "metadata": {},
     "output_type": "execute_result"
    }
   ],
   "source": [
    "y_test[14]\n"
   ]
  },
  {
   "cell_type": "markdown",
   "id": "6e55b607-c918-41a7-b98b-55cc314d7f09",
   "metadata": {},
   "source": [
    "## Реализация через Pytorch"
   ]
  },
  {
   "cell_type": "code",
   "execution_count": 388,
   "id": "99c71c8f-11e9-4715-bb8e-f2b92278338c",
   "metadata": {},
   "outputs": [],
   "source": [
    "def build_vocabulary(tokenized_texts, max_size=4500, max_doc_freq=0.8, min_count=5, pad_word=None):\n",
    "    word_counts = collections.defaultdict(int)\n",
    "    doc_n = 0\n",
    "\n",
    "    # посчитать количество документов, в которых употребляется каждое слово\n",
    "    # а также общее количество документов\n",
    "    for txt in tokenized_texts:\n",
    "        doc_n += 1\n",
    "        unique_text_tokens = set(txt)\n",
    "        for token in unique_text_tokens:\n",
    "            word_counts[token] += 1\n",
    "\n",
    "    # убрать слишком редкие и слишком частые слова\n",
    "    word_counts = {word: cnt for word, cnt in word_counts.items()\n",
    "                   if cnt >= min_count and cnt / doc_n <= max_doc_freq}\n",
    "\n",
    "    # отсортировать слова по убыванию частоты\n",
    "    sorted_word_counts = sorted(word_counts.items(),\n",
    "                                reverse=True,\n",
    "                                key=lambda pair: pair[1])\n",
    "\n",
    "    # добавим несуществующее слово с индексом 0 для удобства пакетной обработки\n",
    "    if pad_word is not None:\n",
    "        sorted_word_counts = [(pad_word, 0)] + sorted_word_counts\n",
    "\n",
    "    # если у нас по прежнему слишком много слов, оставить только max_size самых частотных\n",
    "    if len(word_counts) > max_size:\n",
    "        sorted_word_counts = sorted_word_counts[:max_size]\n",
    "\n",
    "    # нумеруем слова\n",
    "    word2id = {word: i for i, (word, _) in enumerate(sorted_word_counts)}\n",
    "\n",
    "    # нормируем частоты слов\n",
    "    word2freq = np.array([cnt / doc_n for _, cnt in sorted_word_counts], dtype='float32')\n",
    "\n",
    "    return word2id, word2freq\n"
   ]
  },
  {
   "cell_type": "code",
   "execution_count": 389,
   "id": "db608914-d2b5-4d7b-a514-e1aba61ee14f",
   "metadata": {},
   "outputs": [
    {
     "name": "stdout",
     "output_type": "stream",
     "text": [
      "Количество уникальных токенов 4500\n",
      "[('меня', 0), ('года', 1), ('очень', 2), ('только', 3), ('себя', 4), ('хочу', 5), ('было', 6), ('жить', 7), ('просто', 8), ('жизни', 9)]\n"
     ]
    }
   ],
   "source": [
    "MAX_DF = 0.8\n",
    "MIN_COUNT = 5\n",
    "vocabulary, word_doc_freq = build_vocabulary(train_tokenized, max_doc_freq=MAX_DF, min_count=MIN_COUNT)\n",
    "UNIQUE_WORDS_N = len(vocabulary)\n",
    "print('Количество уникальных токенов', UNIQUE_WORDS_N)\n",
    "print(list(vocabulary.items())[:10])"
   ]
  },
  {
   "cell_type": "code",
   "execution_count": 390,
   "id": "b07d6b6d-c7da-481a-a4c2-85e25ab31667",
   "metadata": {},
   "outputs": [
    {
     "data": {
      "image/png": "[encoded data removed]",
      "text/plain": [
       "<Figure size 640x480 with 1 Axes>"
      ]
     },
     "metadata": {},
     "output_type": "display_data"
    }
   ],
   "source": [
    "plt.hist(word_doc_freq, bins=20)\n",
    "plt.title('Распределение относительных частот слов')\n",
    "plt.yscale('log');\n"
   ]
  },
  {
   "cell_type": "markdown",
   "id": "ee5e3bae-8f6b-440d-9777-258c6406c8c8",
   "metadata": {},
   "source": [
    "Закон Ципфа - Частота употребления слов обратно зависит от объема документа"
   ]
  },
  {
   "cell_type": "code",
   "execution_count": 391,
   "id": "cda2928a-d1b1-49ab-b35e-578ea45b85b7",
   "metadata": {},
   "outputs": [],
   "source": [
    "def vectorize_texts(tokenized_texts, word2id, word2freq,mode='tfidf'):\n",
    "    #assert mode in {'tfidf', 'idf', 'tf', 'bin'}\n",
    "\n",
    "    # считаем количество употреблений каждого слова в каждом документе\n",
    "    result = scipy.sparse.dok_matrix((len(tokenized_texts), len(word2id)), dtype='float32')\n",
    "    for text_i, text in enumerate(tokenized_texts):\n",
    "        for token in text:\n",
    "            if token in word2id:\n",
    "                result[text_i, word2id[token]] += 1\n",
    "\n",
    "    # учитываем всю информацию, которая у нас есть:\n",
    "    # частоту слова в документе и частоту слова в корпусе\n",
    "    if mode == 'tfidf':\n",
    "        result = result.tocsr()\n",
    "        result = result.multiply(1 / result.sum(1))  # разделить каждую строку на её длину\n",
    "        result = result.multiply(1 / word2freq)  # разделить каждый столбец на вес слова\n",
    "\n",
    "    \n",
    "    result = result.tocsc()\n",
    "    result -= result.min()\n",
    "    result /= (result.max() + 1e-6)\n",
    "\n",
    "    return result.tocsr()\n"
   ]
  },
  {
   "cell_type": "code",
   "execution_count": 392,
   "id": "277eb846-35a9-40c5-a2ab-240c8b64f668",
   "metadata": {},
   "outputs": [
    {
     "name": "stdout",
     "output_type": "stream",
     "text": [
      "Размерность матрицы признаков обучающей выборки (48029, 4500)\n",
      "Размерность матрицы признаков тестовой выборки (16010, 4500)\n",
      "\n",
      "Количество ненулевых элементов в обучающей выборке 2340648\n",
      "Процент заполненности матрицы признаков 1.08%\n",
      "\n",
      "Количество ненулевых элементов в тестовой выборке 785180\n",
      "Процент заполненности матрицы признаков 1.09%\n"
     ]
    }
   ],
   "source": [
    "\n",
    "train_vectors = vectorize_texts(train_tokenized, vocabulary, word_doc_freq )\n",
    "test_vectors = vectorize_texts(test_tokenized, vocabulary, word_doc_freq)\n",
    "\n",
    "print('Размерность матрицы признаков обучающей выборки', train_vectors.shape)\n",
    "print('Размерность матрицы признаков тестовой выборки', test_vectors.shape)\n",
    "print()\n",
    "print('Количество ненулевых элементов в обучающей выборке', train_vectors.nnz)\n",
    "print('Процент заполненности матрицы признаков {:.2f}%'.format(train_vectors.nnz * 100 / (train_vectors.shape[0] * train_vectors.shape[1])))\n",
    "print()\n",
    "print('Количество ненулевых элементов в тестовой выборке', test_vectors.nnz)\n",
    "print('Процент заполненности матрицы признаков {:.2f}%'.format(test_vectors.nnz * 100 / (test_vectors.shape[0] * test_vectors.shape[1])))"
   ]
  },
  {
   "cell_type": "code",
   "execution_count": 393,
   "id": "14a09eff-9abf-4e71-b139-75a8b719db80",
   "metadata": {},
   "outputs": [
    {
     "data": {
      "image/png": "[encoded data removed]",
      "text/plain": [
       "<Figure size 640x480 with 1 Axes>"
      ]
     },
     "metadata": {},
     "output_type": "display_data"
    }
   ],
   "source": [
    "plt.hist(train_vectors.data, bins=20)\n",
    "plt.title('Распределение весов признаков')\n",
    "plt.yscale('log');"
   ]
  },
  {
   "cell_type": "markdown",
   "id": "e2544af0-f18f-402a-a5a2-6085dfd0db73",
   "metadata": {},
   "source": [
    "Распределение классов"
   ]
  },
  {
   "cell_type": "code",
   "execution_count": 394,
   "id": "802c52fb-935d-4da0-a786-da4ff0294345",
   "metadata": {},
   "outputs": [
    {
     "name": "stdout",
     "output_type": "stream",
     "text": [
      "Количество уникальных меток 2\n"
     ]
    }
   ],
   "source": [
    "UNIQUE_LABELS_N = len(set(y_train))\n",
    "print('Количество уникальных меток', UNIQUE_LABELS_N)"
   ]
  },
  {
   "cell_type": "code",
   "execution_count": 395,
   "id": "036f9a90-1213-4c11-91a6-ba5230c412c1",
   "metadata": {},
   "outputs": [
    {
     "data": {
      "image/png": "[encoded data removed]",
      "text/plain": [
       "<Figure size 640x480 with 1 Axes>"
      ]
     },
     "metadata": {},
     "output_type": "display_data"
    }
   ],
   "source": [
    "plt.hist(y_train, bins=np.arange(0, 2))\n",
    "plt.title('Распределение меток в обучающей выборке');"
   ]
  },
  {
   "cell_type": "code",
   "execution_count": 396,
   "id": "9ea28ae0-44ec-47be-9e7f-7ae4d699088f",
   "metadata": {},
   "outputs": [
    {
     "data": {
      "image/png": "[encoded data removed]",
      "text/plain": [
       "<Figure size 640x480 with 1 Axes>"
      ]
     },
     "metadata": {},
     "output_type": "display_data"
    }
   ],
   "source": [
    "plt.hist(y_test, bins=np.arange(0, 2))\n",
    "plt.title('Распределение меток в тестовой выборке');"
   ]
  },
  {
   "cell_type": "code",
   "execution_count": 397,
   "id": "5859d89c-c367-4a78-92dc-add6492a7766",
   "metadata": {},
   "outputs": [],
   "source": [
    "from torch.utils.data import Dataset\n",
    "class SparseFeaturesDataset(Dataset):\n",
    "    def __init__(self, features, targets):\n",
    "        self.features = features\n",
    "        self.targets = targets\n",
    "\n",
    "    def __len__(self):\n",
    "        return self.features.shape[0]\n",
    "\n",
    "    def __getitem__(self, idx):\n",
    "        cur_features = torch.from_numpy(self.features[idx].toarray()[0]).float()\n",
    "        cur_label = torch.from_numpy(np.asarray(self.targets[idx])).long()\n",
    "        return cur_features, cur_label"
   ]
  },
  {
   "cell_type": "code",
   "execution_count": 398,
   "id": "f834b16b-4f0b-4582-a9b7-3e42f64421ff",
   "metadata": {},
   "outputs": [],
   "source": [
    "train_dataset = SparseFeaturesDataset(train_vectors, y_train)\n",
    "test_dataset = SparseFeaturesDataset(test_vectors, y_test)"
   ]
  },
  {
   "cell_type": "code",
   "execution_count": 399,
   "id": "19515ae6-5340-4c37-aa3c-e2ffdea51802",
   "metadata": {},
   "outputs": [
    {
     "data": {
      "text/plain": [
       "<__main__.SparseFeaturesDataset at 0x7fa29991ffd0>"
      ]
     },
     "execution_count": 399,
     "metadata": {},
     "output_type": "execute_result"
    }
   ],
   "source": [
    "train_dataset"
   ]
  },
  {
   "cell_type": "markdown",
   "id": "650f26d2-f8d2-48d9-b327-2ea345cca454",
   "metadata": {},
   "source": [
    "## методы из курсы, перенесенные с github"
   ]
  },
  {
   "cell_type": "code",
   "execution_count": 414,
   "id": "96297385-ec9b-4983-b5eb-8d5acb59027e",
   "metadata": {},
   "outputs": [],
   "source": [
    "import copy\n",
    "import datetime\n",
    "import random\n",
    "import traceback\n",
    "import numpy as np\n",
    "import torch\n",
    "from torch.utils.data import DataLoader\n",
    "\n",
    "def train_eval_loop(model, train_dataset, val_dataset, criterion,\n",
    "                    lr=1e-4, epoch_n=10, batch_size=32,\n",
    "                    device=None, early_stopping_patience=10, l2_reg_alpha=0,\n",
    "                    max_batches_per_epoch_train=10000,\n",
    "                    max_batches_per_epoch_val=1000,\n",
    "                    data_loader_ctor=DataLoader,\n",
    "                    optimizer_ctor=None,\n",
    "                    lr_scheduler_ctor=None,\n",
    "                    shuffle_train=True,\n",
    "                    dataloader_workers_n=0):\n",
    "    \"\"\"\n",
    "    Цикл для обучения модели. После каждой эпохи качество модели оценивается по отложенной выборке.\n",
    "    :param model: torch.nn.Module - обучаемая модель\n",
    "    :param train_dataset: torch.utils.data.Dataset - данные для обучения\n",
    "    :param val_dataset: torch.utils.data.Dataset - данные для оценки качества\n",
    "    :param criterion: функция потерь для настройки модели\n",
    "    :param lr: скорость обучения\n",
    "    :param epoch_n: максимальное количество эпох\n",
    "    :param batch_size: количество примеров, обрабатываемых моделью за одну итерацию\n",
    "    :param device: cuda/cpu - устройство, на котором выполнять вычисления\n",
    "    :param early_stopping_patience: наибольшее количество эпох, в течение которых допускается\n",
    "        отсутствие улучшения модели, чтобы обучение продолжалось.\n",
    "    :param l2_reg_alpha: коэффициент L2-регуляризации\n",
    "    :param max_batches_per_epoch_train: максимальное количество итераций на одну эпоху обучения\n",
    "    :param max_batches_per_epoch_val: максимальное количество итераций на одну эпоху валидации\n",
    "    :param data_loader_ctor: функция для создания объекта, преобразующего датасет в батчи\n",
    "        (по умолчанию torch.utils.data.DataLoader)\n",
    "    :return: кортеж из двух элементов:\n",
    "        - среднее значение функции потерь на валидации на лучшей эпохе\n",
    "        - лучшая модель\n",
    "    \"\"\"\n",
    "    if device is None:\n",
    "        device = 'cuda' if torch.cuda.is_available() else 'cpu'\n",
    "    device = torch.device(device)\n",
    "    model.to(device)\n",
    "\n",
    "    if optimizer_ctor is None:\n",
    "        optimizer = torch.optim.Adam(model.parameters(), lr=lr, weight_decay=l2_reg_alpha)\n",
    "    else:\n",
    "        optimizer = optimizer_ctor(model.parameters(), lr=lr)\n",
    "\n",
    "    if lr_scheduler_ctor is not None:\n",
    "        lr_scheduler = lr_scheduler_ctor(optimizer)\n",
    "    else:\n",
    "        lr_scheduler = None\n",
    "\n",
    "    train_dataloader = data_loader_ctor(train_dataset, batch_size=batch_size, shuffle=shuffle_train,\n",
    "                                        num_workers=dataloader_workers_n)\n",
    "    val_dataloader = data_loader_ctor(val_dataset, batch_size=batch_size, shuffle=False,\n",
    "                                      num_workers=dataloader_workers_n)\n",
    "\n",
    "    best_val_loss = float('inf')\n",
    "    best_epoch_i = 0\n",
    "    best_model = copy.deepcopy(model)\n",
    "\n",
    "    for epoch_i in range(epoch_n):\n",
    "        try:\n",
    "            epoch_start = datetime.datetime.now()\n",
    "            print('Эпоха {}'.format(epoch_i))\n",
    "\n",
    "            model.train()\n",
    "            mean_train_loss = 0\n",
    "            train_batches_n = 0\n",
    "            for batch_i, (batch_x, batch_y) in enumerate(train_dataloader):\n",
    "                if batch_i > max_batches_per_epoch_train:\n",
    "                    break\n",
    "\n",
    "                batch_x = copy_data_to_device(batch_x, device)\n",
    "                batch_y = copy_data_to_device(batch_y, device)\n",
    "\n",
    "                pred = model(batch_x)\n",
    "                loss = criterion(pred, batch_y)\n",
    "\n",
    "                model.zero_grad()\n",
    "                loss.backward()\n",
    "\n",
    "                optimizer.step()\n",
    "\n",
    "                mean_train_loss += float(loss)\n",
    "                train_batches_n += 1\n",
    "\n",
    "            mean_train_loss /= train_batches_n\n",
    "            print('Эпоха: {} итераций, {:0.2f} сек'.format(train_batches_n,\n",
    "                                                           (datetime.datetime.now() - epoch_start).total_seconds()))\n",
    "            print('Среднее значение функции потерь на обучении', mean_train_loss)\n",
    "\n",
    "\n",
    "\n",
    "            model.eval()\n",
    "            mean_val_loss = 0\n",
    "            val_batches_n = 0\n",
    "\n",
    "            with torch.no_grad():\n",
    "                for batch_i, (batch_x, batch_y) in enumerate(val_dataloader):\n",
    "                    if batch_i > max_batches_per_epoch_val:\n",
    "                        break\n",
    "\n",
    "                    batch_x = copy_data_to_device(batch_x, device)\n",
    "                    batch_y = copy_data_to_device(batch_y, device)\n",
    "\n",
    "                    pred = model(batch_x)\n",
    "                    loss = criterion(pred, batch_y)\n",
    "\n",
    "                    mean_val_loss += float(loss)\n",
    "                    val_batches_n += 1\n",
    "\n",
    "            mean_val_loss /= val_batches_n\n",
    "            print('Среднее значение функции потерь на валидации', mean_val_loss)\n",
    "\n",
    "            if mean_val_loss < best_val_loss:\n",
    "                best_epoch_i = epoch_i\n",
    "                best_val_loss = mean_val_loss\n",
    "                best_model = copy.deepcopy(model)\n",
    "                print('Новая лучшая модель!')\n",
    "            elif epoch_i - best_epoch_i > early_stopping_patience:\n",
    "                print('Модель не улучшилась за последние {} эпох, прекращаем обучение'.format(\n",
    "                    early_stopping_patience))\n",
    "                break\n",
    "\n",
    "            if lr_scheduler is not None:\n",
    "                lr_scheduler.step(mean_val_loss)\n",
    "\n",
    "            print()\n",
    "        except KeyboardInterrupt:\n",
    "            print('Досрочно остановлено пользователем')\n",
    "            break\n",
    "        except Exception as ex:\n",
    "            print('Ошибка при обучении: {}\\n{}'.format(ex, traceback.format_exc()))\n",
    "            break\n",
    "\n",
    "    return best_val_loss, best_model\n",
    "\n",
    "\n",
    "def predict_with_model(model, dataset, device=None, batch_size=32, num_workers=0, return_labels=False):\n",
    "    \"\"\"\n",
    "    :param model: torch.nn.Module - обученная модель\n",
    "    :param dataset: torch.utils.data.Dataset - данные для применения модели\n",
    "    :param device: cuda/cpu - устройство, на котором выполнять вычисления\n",
    "    :param batch_size: количество примеров, обрабатываемых моделью за одну итерацию\n",
    "    :return: numpy.array размерности len(dataset) x *\n",
    "    \"\"\"\n",
    "    if device is None:\n",
    "        device = 'cuda' if torch.cuda.is_available() else 'cpu'\n",
    "    results_by_batch = []\n",
    "\n",
    "    device = torch.device(device)\n",
    "    model.to(device)\n",
    "    model.eval()\n",
    "\n",
    "    dataloader = DataLoader(dataset, batch_size=batch_size, shuffle=False, num_workers=num_workers)\n",
    "    labels = []\n",
    "    with torch.no_grad():\n",
    "        import tqdm\n",
    "        for batch_x, batch_y in tqdm.tqdm(dataloader, total=len(dataset)/batch_size):\n",
    "            batch_x = copy_data_to_device(batch_x, device)\n",
    "\n",
    "            if return_labels:\n",
    "                labels.append(batch_y.numpy())\n",
    "\n",
    "            batch_pred = model(batch_x)\n",
    "            results_by_batch.append(batch_pred.detach().cpu().numpy())\n",
    "\n",
    "    if return_labels:\n",
    "        return np.concatenate(results_by_batch, 0), np.concatenate(labels, 0)\n",
    "    else:\n",
    "        return np.concatenate(results_by_batch, 0)\n",
    "        \n",
    "def copy_data_to_device(data, device):\n",
    "    if torch.is_tensor(data):\n",
    "        return data.to(device)\n",
    "    elif isinstance(data, (list, tuple)):\n",
    "        return [copy_data_to_device(elem, device) for elem in data]\n",
    "    raise ValueError('Недопустимый тип данных {}'.format(type(data)))"
   ]
  },
  {
   "cell_type": "markdown",
   "id": "383b3f8d-f4af-4fb8-9678-24b231600080",
   "metadata": {},
   "source": [
    "## Качество модели Pytorch"
   ]
  },
  {
   "cell_type": "code",
   "execution_count": 403,
   "id": "4c192bb4-0e30-41e4-977b-fd3af6f10c81",
   "metadata": {},
   "outputs": [
    {
     "name": "stdout",
     "output_type": "stream",
     "text": [
      "Эпоха 0\n",
      "Эпоха: 1501 итераций, 14.08 сек\n",
      "Среднее значение функции потерь на обучении 0.12897980292585196\n",
      "Среднее значение функции потерь на валидации 0.05625555379141472\n",
      "Новая лучшая модель!\n",
      "\n",
      "Эпоха 1\n",
      "Эпоха: 1501 итераций, 13.31 сек\n",
      "Среднее значение функции потерь на обучении 0.03844827191493437\n",
      "Среднее значение функции потерь на валидации 0.04512754309608298\n",
      "Новая лучшая модель!\n",
      "\n",
      "Эпоха 2\n",
      "Эпоха: 1501 итераций, 15.12 сек\n",
      "Среднее значение функции потерь на обучении 0.02507300490822437\n",
      "Среднее значение функции потерь на валидации 0.04298116607282928\n",
      "Новая лучшая модель!\n",
      "\n",
      "Эпоха 3\n",
      "Эпоха: 1501 итераций, 14.13 сек\n",
      "Среднее значение функции потерь на обучении 0.018357681748924156\n",
      "Среднее значение функции потерь на валидации 0.0432826329360506\n",
      "\n",
      "Эпоха 4\n",
      "Эпоха: 1501 итераций, 14.68 сек\n",
      "Среднее значение функции потерь на обучении 0.014354900121117236\n",
      "Среднее значение функции потерь на валидации 0.04564735672359741\n",
      "\n",
      "Эпоха 5\n",
      "Эпоха: 1501 итераций, 14.46 сек\n",
      "Среднее значение функции потерь на обучении 0.011952216199133158\n",
      "Среднее значение функции потерь на валидации 0.04913043162346067\n",
      "\n",
      "Эпоха 6\n",
      "Эпоха: 1501 итераций, 14.30 сек\n",
      "Среднее значение функции потерь на обучении 0.01009930199318846\n",
      "Среднее значение функции потерь на валидации 0.050713721217009344\n",
      "\n",
      "Эпоха 7\n",
      "Эпоха: 1501 итераций, 14.81 сек\n",
      "Среднее значение функции потерь на обучении 0.008768100440235656\n",
      "Среднее значение функции потерь на валидации 0.05321895650943728\n",
      "\n",
      "Эпоха 8\n",
      "Эпоха: 1501 итераций, 14.33 сек\n",
      "Среднее значение функции потерь на обучении 0.007765419108986629\n",
      "Среднее значение функции потерь на валидации 0.057001680997818986\n",
      "\n",
      "Эпоха 9\n",
      "Эпоха: 1501 итераций, 13.24 сек\n",
      "Среднее значение функции потерь на обучении 0.00672671303523569\n",
      "Среднее значение функции потерь на валидации 0.05811946126873763\n",
      "\n",
      "Эпоха 10\n",
      "Эпоха: 1501 итераций, 13.45 сек\n",
      "Среднее значение функции потерь на обучении 0.006468554792307836\n",
      "Среднее значение функции потерь на валидации 0.060009626667569156\n",
      "\n",
      "Эпоха 11\n",
      "Эпоха: 1501 итераций, 15.30 сек\n",
      "Среднее значение функции потерь на обучении 0.006191616293317426\n",
      "Среднее значение функции потерь на валидации 0.061676496336247166\n",
      "\n",
      "Эпоха 12\n",
      "Эпоха: 1501 итераций, 13.79 сек\n",
      "Среднее значение функции потерь на обучении 0.006018673103826471\n",
      "Среднее значение функции потерь на валидации 0.06492484151356316\n",
      "\n",
      "Эпоха 13\n",
      "Эпоха: 1501 итераций, 13.24 сек\n",
      "Среднее значение функции потерь на обучении 0.00583549963827641\n",
      "Среднее значение функции потерь на валидации 0.06557213412035813\n",
      "Модель не улучшилась за последние 10 эпох, прекращаем обучение\n"
     ]
    }
   ],
   "source": [
    "model = nn.Linear(UNIQUE_WORDS_N, UNIQUE_LABELS_N)\n",
    "\n",
    "scheduler = lambda optim: torch.optim.lr_scheduler.ReduceLROnPlateau(optim, patience=5, factor=0.5, verbose=True)\n",
    "\n",
    "best_val_loss, best_model = train_eval_loop(model=model,\n",
    "                                            train_dataset=train_dataset,\n",
    "                                            val_dataset=test_dataset,\n",
    "                                            criterion=F.cross_entropy,\n",
    "                                            lr=1e-1,\n",
    "                                            epoch_n=50,\n",
    "                                            batch_size=32,\n",
    "                                            l2_reg_alpha=0,\n",
    "                                            lr_scheduler_ctor=scheduler)"
   ]
  },
  {
   "cell_type": "code",
   "execution_count": 418,
   "id": "e0440df4-34a8-4a82-b95c-ea5eceea785a",
   "metadata": {},
   "outputs": [
    {
     "name": "stderr",
     "output_type": "stream",
     "text": [
      "100%|████████████████████████████████| 1501/1500.90625 [00:09<00:00, 153.18it/s]\n"
     ]
    },
    {
     "name": "stdout",
     "output_type": "stream",
     "text": [
      "Среднее значение функции потерь на обучении 0.01865305006504059\n",
      "Доля верных ответов 0.9945033209102834\n",
      "\n"
     ]
    },
    {
     "name": "stderr",
     "output_type": "stream",
     "text": [
      "501it [00:03, 166.44it/s]                                                       "
     ]
    },
    {
     "name": "stdout",
     "output_type": "stream",
     "text": [
      "Среднее значение функции потерь на валидации 0.04301939904689789\n",
      "Доля верных ответов 0.9872579637726421\n"
     ]
    },
    {
     "name": "stderr",
     "output_type": "stream",
     "text": [
      "\n"
     ]
    }
   ],
   "source": [
    "train_pred = predict_with_model(best_model, train_dataset)\n",
    "\n",
    "train_loss = F.cross_entropy(torch.from_numpy(train_pred),\n",
    "                             torch.from_numpy(y_train.to_numpy()).long())\n",
    "\n",
    "print('Среднее значение функции потерь на обучении', float(train_loss))\n",
    "print('Доля верных ответов', accuracy_score(y_train.to_numpy(), train_pred.argmax(-1)))\n",
    "print()\n",
    "\n",
    "\n",
    "\n",
    "test_pred = predict_with_model(best_model, test_dataset)\n",
    "\n",
    "test_loss = F.cross_entropy(torch.from_numpy(test_pred),\n",
    "                            torch.from_numpy(y_test.to_numpy()).long())\n",
    "\n",
    "print('Среднее значение функции потерь на валидации', float(test_loss))\n",
    "print('Доля верных ответов', accuracy_score(y_test.to_numpy(), test_pred.argmax(-1)))"
   ]
  },
  {
   "cell_type": "markdown",
   "id": "05a6a9ba-f81c-405f-88a1-8d10f7624a59",
   "metadata": {},
   "source": [
    "# Результат"
   ]
  },
  {
   "cell_type": "markdown",
   "id": "419f3a32-db69-4158-8c88-bc741441336d",
   "metadata": {},
   "source": [
    "- На валидации\n",
    "Pytorch - Доля верных ответов 0.987257  Sklearn - Доля верных ответов 0.988632\n",
    "- На обучении\n",
    "Pytorch - Доля верных ответов 0.994503  Sklearn - Доля верных ответов 0.993316"
   ]
  }
 ],
 "metadata": {
  "kernelspec": {
   "display_name": "Python 3 (ipykernel)",
   "language": "python",
   "name": "python3"
  },
  "language_info": {
   "codemirror_mode": {
    "name": "ipython",
    "version": 3
   },
   "file_extension": ".py",
   "mimetype": "text/x-python",
   "name": "python",
   "nbconvert_exporter": "python",
   "pygments_lexer": "ipython3",
   "version": "3.10.12"
  }
 },
 "nbformat": 4,
 "nbformat_minor": 5
}
