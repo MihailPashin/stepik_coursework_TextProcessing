{
 "cells": [
  {
   "cell_type": "markdown",
   "id": "70838468-b453-457f-811e-45a175ed85d1",
   "metadata": {},
   "source": [
    "# Word2Vec \n"
   ]
  },
  {
   "cell_type": "markdown",
   "id": "4277e6e5-cef1-42d9-9474-49fe4d16ec88",
   "metadata": {},
   "source": [
    "## Модель дистрибутивной семантики. Реализация с помощью PyTorch"
   ]
  },
  {
   "cell_type": "code",
   "execution_count": 12,
   "id": "b1ec8877-dd41-4af7-926e-203094f4792f",
   "metadata": {},
   "outputs": [],
   "source": [
    "import random\n",
    "import pandas as pd\n",
    "import numpy as np\n",
    "\n",
    "import matplotlib.pyplot as plt\n",
    "%matplotlib inline\n",
    "\n",
    "import torch\n",
    "from torch import nn\n",
    "from torch.nn import functional as F"
   ]
  },
  {
   "cell_type": "code",
   "execution_count": 29,
   "id": "da74ac41-8448-43f0-8826-269683bb63a1",
   "metadata": {},
   "outputs": [],
   "source": [
    "import re\n",
    "import collections"
   ]
  },
  {
   "cell_type": "markdown",
   "id": "57f64852-c002-4452-8b58-439978ed5853",
   "metadata": {},
   "source": [
    "Датасет - англоязычный набор данных Рецепты еды.\n",
    "\n",
    "Его рассматривают на семинаре.\n",
    "\n",
    "Источник: [https://github.com/nytimes/ingredient-phrase-tagger/tree/master]"
   ]
  },
  {
   "cell_type": "code",
   "execution_count": 16,
   "id": "c69f5055-c5d8-4f60-b011-f16a71df6c99",
   "metadata": {},
   "outputs": [
    {
     "name": "stdout",
     "output_type": "stream",
     "text": [
      "Обучающая выборка 125344\n",
      "Тестовая выборка 53719\n",
      "\n",
      "1/2 teaspoon paprika\n",
      "2 teaspoons paprika\n",
      "2 cups cooked black beans, drained (canned are fine)\n",
      "2 tablespoons butter\n",
      "1 teaspoon ground coriander\n"
     ]
    }
   ],
   "source": [
    "full_dataset = list(pd.read_csv('../dataset/receipts.csv')['input'].dropna())\n",
    "random.shuffle(full_dataset)\n",
    "\n",
    "TRAIN_VAL_SPLIT = int(len(full_dataset) * 0.7)\n",
    "train_data = full_dataset[:TRAIN_VAL_SPLIT]\n",
    "test_data = full_dataset[TRAIN_VAL_SPLIT:]\n",
    "print(\"Обучающая выборка\", len(train_data))\n",
    "print(\"Тестовая выборка\", len(test_data))\n",
    "print()\n",
    "print('\\n'.join(train_data[:5]))"
   ]
  },
  {
   "cell_type": "markdown",
   "id": "f08ed64f-44ce-4599-9e09-600b12d3db66",
   "metadata": {},
   "source": [
    "## Токенизация"
   ]
  },
  {
   "cell_type": "code",
   "execution_count": 17,
   "id": "bc7889b0-2b26-46b1-93bf-d162632b0953",
   "metadata": {},
   "outputs": [],
   "source": [
    "TOKEN_RE = re.compile(r'[\\w\\d]+') \n",
    "\n",
    "def tokenize_text_simple_regex(txt, min_token_size=4):\n",
    "    #print(txt)\n",
    "    txt = txt.lower()\n",
    "    all_tokens = TOKEN_RE.findall(txt)\n",
    "    return [token for token in all_tokens if len(token) >= min_token_size]\n",
    "\n",
    "def character_tokenize(txt): \n",
    "    return list(txt)\n",
    "\n",
    "def tokenize_corpus(texts, tokenizer=tokenize_text_simple_regex, **tokenizer_kwargs): \n",
    "    #print(texts)\n",
    "    return [tokenizer(text, **tokenizer_kwargs) for text in texts]"
   ]
  },
  {
   "cell_type": "code",
   "execution_count": 24,
   "id": "0fb17639-d5b5-44da-9995-c7702a736659",
   "metadata": {},
   "outputs": [],
   "source": [
    "# токенизируем\n",
    "train_tokens = tokenize_corpus(train_data)\n",
    "test_tokens = tokenize_corpus(test_data)"
   ]
  },
  {
   "cell_type": "code",
   "execution_count": 25,
   "id": "f8b4b045-4317-4eba-b658-e4e96f333d57",
   "metadata": {},
   "outputs": [
    {
     "data": {
      "text/plain": [
       "['cups', 'cooked', 'black', 'beans', 'drained', 'canned', 'fine']"
      ]
     },
     "execution_count": 25,
     "metadata": {},
     "output_type": "execute_result"
    }
   ],
   "source": [
    "train_tokens[2]"
   ]
  },
  {
   "cell_type": "markdown",
   "id": "b987e523-50d4-42c4-be2d-38f32b37adf0",
   "metadata": {},
   "source": [
    "## Словарь из ингредиентов рецепта"
   ]
  },
  {
   "cell_type": "code",
   "execution_count": 27,
   "id": "82b698fa-52c9-4aa0-86b7-e5b968933f18",
   "metadata": {},
   "outputs": [],
   "source": [
    "# Метод, написанный преподавателями курса\n",
    "def build_vocabulary(tokenized_texts, max_size=50000, max_doc_freq=0.8, min_count=5, pad_word=None):\n",
    "    word_counts = collections.defaultdict(int)\n",
    "    doc_n = 0\n",
    "\n",
    "    # посчитать количество документов, в которых употребляется каждое слово\n",
    "    # а также общее количество документов\n",
    "    for txt in tokenized_texts:\n",
    "        doc_n += 1\n",
    "        unique_text_tokens = set(txt)\n",
    "        for token in unique_text_tokens:\n",
    "            word_counts[token] += 1\n",
    "\n",
    "    # убрать слишком редкие и слишком частые слова\n",
    "    word_counts = {word: cnt for word, cnt in word_counts.items()\n",
    "                   if cnt >= min_count and cnt / doc_n <= max_doc_freq}\n",
    "\n",
    "    # отсортировать слова по убыванию частоты\n",
    "    sorted_word_counts = sorted(word_counts.items(),\n",
    "                                reverse=True,\n",
    "                                key=lambda pair: pair[1])\n",
    "\n",
    "    # добавим несуществующее слово с индексом 0 для удобства пакетной обработки\n",
    "    if pad_word is not None:\n",
    "        sorted_word_counts = [(pad_word, 0)] + sorted_word_counts\n",
    "\n",
    "    # если у нас по прежнему слишком много слов, оставить только max_size самых частотных\n",
    "    if len(word_counts) > max_size:\n",
    "        sorted_word_counts = sorted_word_counts[:max_size]\n",
    "\n",
    "    # нумеруем слова\n",
    "    word2id = {word: i for i, (word, _) in enumerate(sorted_word_counts)}\n",
    "\n",
    "    # нормируем частоты слов\n",
    "    word2freq = np.array([cnt / doc_n for _, cnt in sorted_word_counts], dtype='float32')\n",
    "\n",
    "    return word2id, word2freq\n",
    "\n",
    "\n",
    "PAD_TOKEN = '__PAD__'\n",
    "NUMERIC_TOKEN = '__NUMBER__'\n",
    "NUMERIC_RE = re.compile(r'^([0-9.,e+\\-]+|[mcxvi]+)$', re.I)"
   ]
  },
  {
   "cell_type": "code",
   "execution_count": 32,
   "id": "00d0718b-d78e-4391-a2b3-41816d0357f3",
   "metadata": {},
   "outputs": [
    {
     "name": "stdout",
     "output_type": "stream",
     "text": [
      "Размер словаря 2252\n",
      "[('<PAD>', 0), ('tablespoons', 1), ('teaspoon', 2), ('chopped', 3), ('salt', 4), ('pepper', 5), ('cups', 6), ('ground', 7), ('tablespoon', 8), ('fresh', 9)]\n"
     ]
    }
   ],
   "source": [
    "vocabulary, word_doc_freq = build_vocabulary(train_tokens, max_doc_freq=0.9, min_count=5, pad_word='<PAD>')\n",
    "print(\"Размер словаря\", len(vocabulary))\n",
    "print(list(vocabulary.items())[:10])"
   ]
  },
  {
   "cell_type": "markdown",
   "id": "e9aa1e6c-5cf1-421d-8366-b8362e667545",
   "metadata": {},
   "source": [
    "#### PAD символ предназначен для выравнивания массивов в одну размерность для  преобразования в матрицу, облегчая обработку GPU"
   ]
  },
  {
   "cell_type": "markdown",
   "id": "7cecd0b0-58e7-4d46-9378-38617570dd7a",
   "metadata": {},
   "source": [
    "## Пронумирование токенов"
   ]
  },
  {
   "cell_type": "code",
   "execution_count": 36,
   "id": "62c65974-3f67-4ec7-a90e-0216f52ed110",
   "metadata": {},
   "outputs": [],
   "source": [
    "def add_fake_token(word2id, token='<PAD>'):\n",
    "    word2id_new = {token: i + 1 for token, i in word2id.items()}\n",
    "    word2id_new[token] = 0\n",
    "    return word2id_new\n",
    "\n",
    "\n",
    "def texts_to_token_ids(tokenized_texts, word2id):\n",
    "    return [[word2id[token] for token in text if token in word2id]\n",
    "            for text in tokenized_texts]\n"
   ]
  },
  {
   "cell_type": "code",
   "execution_count": 37,
   "id": "a079a350-efa2-41d2-b414-902baaa80516",
   "metadata": {},
   "outputs": [],
   "source": [
    "train_tkn_id = texts_to_token_ids(train_tokens, vocabulary)\n",
    "test_tkn_id = texts_to_token_ids(test_tokens, vocabulary)\n"
   ]
  },
  {
   "cell_type": "markdown",
   "id": "1c7bf0fd-ffac-440b-81eb-fa9182ae2e34",
   "metadata": {},
   "source": [
    "### Длины текстов"
   ]
  },
  {
   "cell_type": "code",
   "execution_count": 40,
   "id": "888106eb-8ae9-47b6-8629-9426b9849d2a",
   "metadata": {},
   "outputs": [
    {
     "data": {
      "image/png": "[encoded data removed]",
      "text/plain": [
       "<Figure size 640x480 with 1 Axes>"
      ]
     },
     "metadata": {},
     "output_type": "display_data"
    }
   ],
   "source": [
    "plt.hist([len(element) for element in train_tkn_id], bins=20);\n",
    "plt.title('Гистограмма длин предложений');"
   ]
  },
  {
   "cell_type": "markdown",
   "id": "08d9abb8-065a-4ff1-ad60-0e86762b88e8",
   "metadata": {},
   "source": [
    "## Преобразование в Тензор, для параллельной обработки"
   ]
  },
  {
   "cell_type": "code",
   "execution_count": 49,
   "id": "7315e174-07ce-40de-9608-ce4d97687d23",
   "metadata": {},
   "outputs": [],
   "source": [
    "### Класс, разработанный преподавтелями курса.\n",
    "\n",
    "### Решаемые задачи, благодаря новому классу.\n",
    "#### Формирование датасета, каждой предложение в котором будет имеет одинкаовую длину \n",
    "#### Преобразование в Тензоре, что упростит обработку для GPU\n",
    "import torch\n",
    "from torch.utils.data import Dataset\n",
    "\n",
    "\n",
    "def ensure_length(txt, out_len, pad_value):\n",
    "    if len(txt) < out_len:\n",
    "        txt = list(txt) + [pad_value] * (out_len - len(txt))\n",
    "    else:\n",
    "        txt = txt[:out_len]\n",
    "    return txt\n",
    "\n",
    "\n",
    "class PaddedSequenceDataset(Dataset):\n",
    "    def __init__(self, texts, targets, out_len=100, pad_value=0):\n",
    "        self.texts = texts\n",
    "        self.targets = targets\n",
    "        self.out_len = out_len\n",
    "        self.pad_value = pad_value\n",
    "\n",
    "    def __len__(self):\n",
    "        return len(self.texts)\n",
    "\n",
    "    def __getitem__(self, item):\n",
    "        txt = self.texts[item]\n",
    "\n",
    "        txt = ensure_length(txt, self.out_len, self.pad_value)\n",
    "        txt = torch.tensor(txt, dtype=torch.long)\n",
    "\n",
    "        target = torch.tensor(self.targets[item], dtype=torch.long)\n",
    "\n",
    "        return txt, target\n"
   ]
  },
  {
   "cell_type": "code",
   "execution_count": 50,
   "id": "f58b9432-762e-4faa-a4c5-be077c8ac44f",
   "metadata": {},
   "outputs": [
    {
     "name": "stdout",
     "output_type": "stream",
     "text": [
      "(tensor([  2, 199,   0,   0,   0,   0,   0,   0,   0,   0,   0,   0,   0,   0,\n",
      "          0,   0,   0,   0,   0,   0]), tensor(0))\n"
     ]
    }
   ],
   "source": [
    "MAX_SENTENCE_LEN = 20\n",
    "train_info = PaddedSequenceDataset(train_tkn_id,\n",
    "                                      np.zeros(len(train_tkn_id)),\n",
    "                                      out_len=MAX_SENTENCE_LEN)\n",
    "test_info = PaddedSequenceDataset(test_tkn_id,\n",
    "                                     np.zeros(len(test_tkn_id)),\n",
    "                                     out_len=MAX_SENTENCE_LEN)\n",
    "print(train_info[0])"
   ]
  },
  {
   "cell_type": "markdown",
   "id": "5b0eddb0-5202-4190-9fd6-ba4009b3adbb",
   "metadata": {},
   "source": [
    "## Алгоритм Word2Vec и обучение"
   ]
  },
  {
   "cell_type": "markdown",
   "id": "16e39d5a-ff12-4eb9-8302-9a4fd41ba1c8",
   "metadata": {},
   "source": [
    "### Реализация Word2Vec включает в себя два важных механизма:\n",
    "- Skip Gram - предсказание соседних слов на основе центрального в рамках скользящего окна\n",
    "- Negative Sampling - апроксимация softmax с построением распределения вероятностей и определением сходства\n",
    "\n",
    "\n",
    "\n",
    "\n",
    "Задача обучения word2vec сводится к созданию класификатора, \n",
    "принимающий на вход два идентификатора слова, и отвечающий на вопроса совместно ли они расположены\n"
   ]
  },
  {
   "cell_type": "code",
   "execution_count": 58,
   "id": "c7c617d8-f6c1-4108-b81a-0fe46e0a35c5",
   "metadata": {},
   "outputs": [
    {
     "data": {
      "text/plain": [
       "tensor([[0., 1., 1., 1., 0., 0., 0., 0., 0., 0.],\n",
       "        [1., 0., 1., 1., 1., 0., 0., 0., 0., 0.],\n",
       "        [1., 1., 0., 1., 1., 1., 0., 0., 0., 0.],\n",
       "        [1., 1., 1., 0., 1., 1., 1., 0., 0., 0.],\n",
       "        [0., 1., 1., 1., 0., 1., 1., 1., 0., 0.],\n",
       "        [0., 0., 1., 1., 1., 0., 1., 1., 1., 0.],\n",
       "        [0., 0., 0., 1., 1., 1., 0., 1., 1., 1.],\n",
       "        [0., 0., 0., 0., 1., 1., 1., 0., 1., 1.],\n",
       "        [0., 0., 0., 0., 0., 1., 1., 1., 0., 1.],\n",
       "        [0., 0., 0., 0., 0., 0., 1., 1., 1., 0.]])"
      ]
     },
     "execution_count": 58,
     "metadata": {},
     "output_type": "execute_result"
    }
   ],
   "source": [
    "### Моделирование прохождения скользящего окна\n",
    "### Легче отследить факт совместной встречаемости\n",
    "\n",
    "def diagonal_mask(size, radius):\n",
    "    \"\"\"Квадратная матрица размера Size x Size с двумя полосами ширины radius вдоль главной диагонали\"\"\"\n",
    "    idxs = torch.arange(size)\n",
    "    abs_idx_diff = (idxs.unsqueeze(0) - idxs.unsqueeze(1)).abs()\n",
    "    mask = ((abs_idx_diff <= radius) & (abs_idx_diff > 0)).float()\n",
    "    return mask\n",
    "\n",
    "diagonal_mask(10, 3)"
   ]
  },
  {
   "cell_type": "code",
   "execution_count": 59,
   "id": "8bd0e6f1-ea70-40c5-8340-22c5c94e151e",
   "metadata": {},
   "outputs": [],
   "source": [
    "### Класс, разработанный преподавтелями курса.\n",
    "### Реализация алгоритма SkipGram-NegativeSampling\n",
    "class Trainer(nn.Module):\n",
    "    def __init__(self, vocab_size, emb_size, sentence_len, radius=5, negative_samples_n=5):\n",
    "        super().__init__()\n",
    "        self.vocab_size = vocab_size\n",
    "        self.negative_samples_n = negative_samples_n\n",
    "\n",
    "        self.center_emb = nn.Embedding(self.vocab_size, emb_size, padding_idx=0)\n",
    "        self.center_emb.weight.data.uniform_(-1.0 / emb_size, 1.0 / emb_size)\n",
    "        self.center_emb.weight.data[0] = 0\n",
    "\n",
    "        self.context_emb = nn.Embedding(self.vocab_size, emb_size, padding_idx=0)        \n",
    "        self.context_emb.weight.data.uniform_(-1.0 / emb_size, 1.0 / emb_size)\n",
    "        self.context_emb.weight.data[0] = 0\n",
    "\n",
    "        self.positive_sim_mask = diagonal_mask(sentence_len, radius)\n",
    "    \n",
    "    def forward(self, sentences):\n",
    "        \"\"\"sentences - Batch x MaxSentLength - идентификаторы токенов\"\"\"\n",
    "        batch_size = sentences.shape[0]\n",
    "        center_embeddings = self.center_emb(sentences)  # Batch x MaxSentLength x EmbSize\n",
    "\n",
    "        # оценить сходство с настоящими соседними словами\n",
    "        positive_context_embs = self.context_emb(sentences).permute(0, 2, 1)  # Batch x EmbSize x MaxSentLength\n",
    "        positive_sims = torch.bmm(center_embeddings, positive_context_embs)  # Batch x MaxSentLength x MaxSentLength\n",
    "        positive_probs = torch.sigmoid(positive_sims)\n",
    "\n",
    "        # увеличить оценку вероятности встретить эти пары слов вместе\n",
    "        positive_mask = self.positive_sim_mask.to(positive_sims.device)\n",
    "        positive_loss = F.binary_cross_entropy(positive_probs * positive_mask,\n",
    "                                               positive_mask.expand_as(positive_probs))\n",
    "\n",
    "        # выбрать случайные \"отрицательные\" слова\n",
    "        negative_words = torch.randint(1, self.vocab_size,\n",
    "                                       size=(batch_size, self.negative_samples_n),\n",
    "                                       device=sentences.device)  # Batch x NegSamplesN\n",
    "        negative_context_embs = self.context_emb(negative_words).permute(0, 2, 1)  # Batch x EmbSize x NegSamplesN\n",
    "        negative_sims = torch.bmm(center_embeddings, negative_context_embs)  # Batch x MaxSentLength x NegSamplesN\n",
    "        \n",
    "        # уменьшить оценку вероятность встретить эти пары слов вместе\n",
    "        negative_loss = F.binary_cross_entropy_with_logits(negative_sims,\n",
    "                                                           negative_sims.new_zeros(negative_sims.shape))\n",
    "\n",
    "        return positive_loss + negative_loss\n",
    "\n",
    "\n",
    "def no_loss(pred, target):\n",
    "    \"\"\"Фиктивная функция потерь - когда модель сама считает функцию потерь\"\"\"\n",
    "    return pred"
   ]
  },
  {
   "cell_type": "code",
   "execution_count": 60,
   "id": "40602778-afe9-4de0-9b2a-29dc8ce0f8f1",
   "metadata": {},
   "outputs": [],
   "source": [
    "trainer = Trainer(len(vocabulary), 100, MAX_SENTENCE_LEN,\n",
    "                                          radius=5, negative_samples_n=25)"
   ]
  },
  {
   "cell_type": "markdown",
   "id": "689fad4b-ba49-44e5-8d38-e912e78fcc85",
   "metadata": {},
   "source": [
    "## методы из курсы, перенесенные с github"
   ]
  },
  {
   "cell_type": "code",
   "execution_count": 62,
   "id": "2b9038b8-ea63-427f-9b8e-aa9221d8aa9e",
   "metadata": {},
   "outputs": [],
   "source": [
    "import copy\n",
    "import datetime\n",
    "import random\n",
    "import traceback\n",
    "import numpy as np\n",
    "import torch\n",
    "from torch.utils.data import DataLoader\n",
    "\n",
    "def train_eval_loop(model, train_dataset, val_dataset, criterion,\n",
    "                    lr=1e-4, epoch_n=10, batch_size=32,\n",
    "                    device=None, early_stopping_patience=10, l2_reg_alpha=0,\n",
    "                    max_batches_per_epoch_train=10000,\n",
    "                    max_batches_per_epoch_val=1000,\n",
    "                    data_loader_ctor=DataLoader,\n",
    "                    optimizer_ctor=None,\n",
    "                    lr_scheduler_ctor=None,\n",
    "                    shuffle_train=True,\n",
    "                    dataloader_workers_n=0):\n",
    "    \"\"\"\n",
    "    Цикл для обучения модели. После каждой эпохи качество модели оценивается по отложенной выборке.\n",
    "    :param model: torch.nn.Module - обучаемая модель\n",
    "    :param train_dataset: torch.utils.data.Dataset - данные для обучения\n",
    "    :param val_dataset: torch.utils.data.Dataset - данные для оценки качества\n",
    "    :param criterion: функция потерь для настройки модели\n",
    "    :param lr: скорость обучения\n",
    "    :param epoch_n: максимальное количество эпох\n",
    "    :param batch_size: количество примеров, обрабатываемых моделью за одну итерацию\n",
    "    :param device: cuda/cpu - устройство, на котором выполнять вычисления\n",
    "    :param early_stopping_patience: наибольшее количество эпох, в течение которых допускается\n",
    "        отсутствие улучшения модели, чтобы обучение продолжалось.\n",
    "    :param l2_reg_alpha: коэффициент L2-регуляризации\n",
    "    :param max_batches_per_epoch_train: максимальное количество итераций на одну эпоху обучения\n",
    "    :param max_batches_per_epoch_val: максимальное количество итераций на одну эпоху валидации\n",
    "    :param data_loader_ctor: функция для создания объекта, преобразующего датасет в батчи\n",
    "        (по умолчанию torch.utils.data.DataLoader)\n",
    "    :return: кортеж из двух элементов:\n",
    "        - среднее значение функции потерь на валидации на лучшей эпохе\n",
    "        - лучшая модель\n",
    "    \"\"\"\n",
    "    if device is None:\n",
    "        device = 'cuda' if torch.cuda.is_available() else 'cpu'\n",
    "    device = torch.device(device)\n",
    "    model.to(device)\n",
    "\n",
    "    if optimizer_ctor is None:\n",
    "        optimizer = torch.optim.Adam(model.parameters(), lr=lr, weight_decay=l2_reg_alpha)\n",
    "    else:\n",
    "        optimizer = optimizer_ctor(model.parameters(), lr=lr)\n",
    "\n",
    "    if lr_scheduler_ctor is not None:\n",
    "        lr_scheduler = lr_scheduler_ctor(optimizer)\n",
    "    else:\n",
    "        lr_scheduler = None\n",
    "\n",
    "    train_dataloader = data_loader_ctor(train_dataset, batch_size=batch_size, shuffle=shuffle_train,\n",
    "                                        num_workers=dataloader_workers_n)\n",
    "    val_dataloader = data_loader_ctor(val_dataset, batch_size=batch_size, shuffle=False,\n",
    "                                      num_workers=dataloader_workers_n)\n",
    "\n",
    "    best_val_loss = float('inf')\n",
    "    best_epoch_i = 0\n",
    "    best_model = copy.deepcopy(model)\n",
    "\n",
    "    for epoch_i in range(epoch_n):\n",
    "        try:\n",
    "            epoch_start = datetime.datetime.now()\n",
    "            print('Эпоха {}'.format(epoch_i))\n",
    "\n",
    "            model.train()\n",
    "            mean_train_loss = 0\n",
    "            train_batches_n = 0\n",
    "            for batch_i, (batch_x, batch_y) in enumerate(train_dataloader):\n",
    "                if batch_i > max_batches_per_epoch_train:\n",
    "                    break\n",
    "\n",
    "                batch_x = copy_data_to_device(batch_x, device)\n",
    "                batch_y = copy_data_to_device(batch_y, device)\n",
    "\n",
    "                pred = model(batch_x)\n",
    "                loss = criterion(pred, batch_y)\n",
    "\n",
    "                model.zero_grad()\n",
    "                loss.backward()\n",
    "\n",
    "                optimizer.step()\n",
    "\n",
    "                mean_train_loss += float(loss)\n",
    "                train_batches_n += 1\n",
    "\n",
    "            mean_train_loss /= train_batches_n\n",
    "            print('Эпоха: {} итераций, {:0.2f} сек'.format(train_batches_n,\n",
    "                                                           (datetime.datetime.now() - epoch_start).total_seconds()))\n",
    "            print('Среднее значение функции потерь на обучении', mean_train_loss)\n",
    "\n",
    "\n",
    "\n",
    "            model.eval()\n",
    "            mean_val_loss = 0\n",
    "            val_batches_n = 0\n",
    "\n",
    "            with torch.no_grad():\n",
    "                for batch_i, (batch_x, batch_y) in enumerate(val_dataloader):\n",
    "                    if batch_i > max_batches_per_epoch_val:\n",
    "                        break\n",
    "\n",
    "                    batch_x = copy_data_to_device(batch_x, device)\n",
    "                    batch_y = copy_data_to_device(batch_y, device)\n",
    "\n",
    "                    pred = model(batch_x)\n",
    "                    loss = criterion(pred, batch_y)\n",
    "\n",
    "                    mean_val_loss += float(loss)\n",
    "                    val_batches_n += 1\n",
    "\n",
    "            mean_val_loss /= val_batches_n\n",
    "            print('Среднее значение функции потерь на валидации', mean_val_loss)\n",
    "\n",
    "            if mean_val_loss < best_val_loss:\n",
    "                best_epoch_i = epoch_i\n",
    "                best_val_loss = mean_val_loss\n",
    "                best_model = copy.deepcopy(model)\n",
    "                print('Новая лучшая модель!')\n",
    "            elif epoch_i - best_epoch_i > early_stopping_patience:\n",
    "                print('Модель не улучшилась за последние {} эпох, прекращаем обучение'.format(\n",
    "                    early_stopping_patience))\n",
    "                break\n",
    "\n",
    "            if lr_scheduler is not None:\n",
    "                lr_scheduler.step(mean_val_loss)\n",
    "\n",
    "            print()\n",
    "        except KeyboardInterrupt:\n",
    "            print('Досрочно остановлено пользователем')\n",
    "            break\n",
    "        except Exception as ex:\n",
    "            print('Ошибка при обучении: {}\\n{}'.format(ex, traceback.format_exc()))\n",
    "            break\n",
    "\n",
    "    return best_val_loss, best_model\n",
    "\n",
    "\n",
    "def predict_with_model(model, dataset, device=None, batch_size=32, num_workers=0, return_labels=False):\n",
    "    \"\"\"\n",
    "    :param model: torch.nn.Module - обученная модель\n",
    "    :param dataset: torch.utils.data.Dataset - данные для применения модели\n",
    "    :param device: cuda/cpu - устройство, на котором выполнять вычисления\n",
    "    :param batch_size: количество примеров, обрабатываемых моделью за одну итерацию\n",
    "    :return: numpy.array размерности len(dataset) x *\n",
    "    \"\"\"\n",
    "    if device is None:\n",
    "        device = 'cuda' if torch.cuda.is_available() else 'cpu'\n",
    "    results_by_batch = []\n",
    "\n",
    "    device = torch.device(device)\n",
    "    model.to(device)\n",
    "    model.eval()\n",
    "\n",
    "    dataloader = DataLoader(dataset, batch_size=batch_size, shuffle=False, num_workers=num_workers)\n",
    "    labels = []\n",
    "    with torch.no_grad():\n",
    "        import tqdm\n",
    "        for batch_x, batch_y in tqdm.tqdm(dataloader, total=len(dataset)/batch_size):\n",
    "            batch_x = copy_data_to_device(batch_x, device)\n",
    "\n",
    "            if return_labels:\n",
    "                labels.append(batch_y.numpy())\n",
    "\n",
    "            batch_pred = model(batch_x)\n",
    "            results_by_batch.append(batch_pred.detach().cpu().numpy())\n",
    "\n",
    "    if return_labels:\n",
    "        return np.concatenate(results_by_batch, 0), np.concatenate(labels, 0)\n",
    "    else:\n",
    "        return np.concatenate(results_by_batch, 0)\n",
    "        \n",
    "def copy_data_to_device(data, device):\n",
    "    if torch.is_tensor(data):\n",
    "        return data.to(device)\n",
    "    elif isinstance(data, (list, tuple)):\n",
    "        return [copy_data_to_device(elem, device) for elem in data]\n",
    "    raise ValueError('Недопустимый тип данных {}'.format(type(data)))"
   ]
  },
  {
   "cell_type": "markdown",
   "id": "9f141e25-30ff-401e-84f0-51c3c76825b2",
   "metadata": {},
   "source": [
    "## Построение модели Word2Vec через PyTorch"
   ]
  },
  {
   "cell_type": "code",
   "execution_count": 67,
   "id": "30b45cd9-0147-4a12-abca-5039266bb2aa",
   "metadata": {},
   "outputs": [
    {
     "name": "stdout",
     "output_type": "stream",
     "text": [
      "Эпоха 0\n",
      "Эпоха: 2001 итераций, 12.35 сек\n",
      "Среднее значение функции потерь на обучении 0.8780487409417239\n",
      "Среднее значение функции потерь на валидации 0.8780718610079006\n",
      "Новая лучшая модель!\n",
      "\n",
      "Эпоха 1\n",
      "Эпоха: 2001 итераций, 12.52 сек\n",
      "Среднее значение функции потерь на обучении 0.8766847268930975\n",
      "Среднее значение функции потерь на валидации 0.8777228129416016\n",
      "Новая лучшая модель!\n",
      "\n",
      "Эпоха 2\n",
      "Эпоха: 2001 итераций, 13.15 сек\n",
      "Среднее значение функции потерь на обучении 0.876335394495669\n",
      "Среднее значение функции потерь на валидации 0.8772628698611739\n",
      "Новая лучшая модель!\n",
      "\n",
      "Эпоха 3\n",
      "Эпоха: 2001 итераций, 12.36 сек\n",
      "Среднее значение функции потерь на обучении 0.8761665657244582\n",
      "Среднее значение функции потерь на валидации 0.8773141658670052\n",
      "\n",
      "Эпоха 4\n",
      "Эпоха: 2001 итераций, 12.87 сек\n",
      "Среднее значение функции потерь на обучении 0.8771558977376813\n",
      "Среднее значение функции потерь на валидации 0.877244487087494\n",
      "Новая лучшая модель!\n",
      "\n",
      "Эпоха 5\n",
      "Эпоха: 2001 итераций, 14.03 сек\n",
      "Среднее значение функции потерь на обучении 0.8719477093499759\n",
      "Среднее значение функции потерь на валидации 0.8727978881845169\n",
      "Новая лучшая модель!\n",
      "\n",
      "Эпоха 6\n",
      "Эпоха: 2001 итераций, 12.93 сек\n",
      "Среднее значение функции потерь на обучении 0.8704957708247241\n",
      "Среднее значение функции потерь на валидации 0.8713286715484074\n",
      "Новая лучшая модель!\n",
      "\n",
      "Эпоха 7\n",
      "Эпоха: 2001 итераций, 12.91 сек\n",
      "Среднее значение функции потерь на обучении 0.8688365272555811\n",
      "Среднее значение функции потерь на валидации 0.870402243859894\n",
      "Новая лучшая модель!\n",
      "\n",
      "Эпоха 8\n",
      "Эпоха: 2001 итераций, 14.67 сек\n",
      "Среднее значение функции потерь на обучении 0.8677765617425415\n",
      "Среднее значение функции потерь на валидации 0.869834291082838\n",
      "Новая лучшая модель!\n",
      "\n",
      "Эпоха 9\n",
      "Эпоха: 2001 итераций, 13.31 сек\n",
      "Среднее значение функции потерь на обучении 0.8677196304003397\n",
      "Среднее значение функции потерь на валидации 0.8694151752756677\n",
      "Новая лучшая модель!\n",
      "\n",
      "Эпоха 10\n",
      "Эпоха: 2001 итераций, 13.65 сек\n",
      "Среднее значение функции потерь на обучении 0.867241977483615\n",
      "Среднее значение функции потерь на валидации 0.8690679213136147\n",
      "Новая лучшая модель!\n",
      "\n",
      "Эпоха 11\n",
      "Эпоха: 2001 итераций, 12.55 сек\n",
      "Среднее значение функции потерь на обучении 0.8674352807679336\n",
      "Среднее значение функции потерь на валидации 0.8687847984520606\n",
      "Новая лучшая модель!\n",
      "\n",
      "Эпоха 12\n",
      "Эпоха: 2001 итераций, 13.37 сек\n",
      "Среднее значение функции потерь на обучении 0.8658146425403993\n",
      "Среднее значение функции потерь на валидации 0.8686383064256528\n",
      "Новая лучшая модель!\n",
      "\n",
      "Эпоха 13\n",
      "Эпоха: 2001 итераций, 14.53 сек\n",
      "Среднее значение функции потерь на обучении 0.8661323050925995\n",
      "Среднее значение функции потерь на валидации 0.8683453298644707\n",
      "Новая лучшая модель!\n",
      "\n",
      "Эпоха 14\n",
      "Эпоха: 2001 итераций, 12.90 сек\n",
      "Среднее значение функции потерь на обучении 0.865612620267196\n",
      "Среднее значение функции потерь на валидации 0.8681985330954471\n",
      "Новая лучшая модель!\n",
      "\n",
      "Эпоха 15\n",
      "Эпоха: 2001 итераций, 12.98 сек\n",
      "Среднее значение функции потерь на обучении 0.8657629017470063\n",
      "Среднее значение функции потерь на валидации 0.8682714935034314\n",
      "\n",
      "Эпоха 16\n",
      "Эпоха: 2001 итераций, 12.94 сек\n",
      "Среднее значение функции потерь на обучении 0.8648237133550382\n",
      "Среднее значение функции потерь на валидации 0.8680983676452381\n",
      "Новая лучшая модель!\n",
      "\n",
      "Эпоха 17\n",
      "Эпоха: 2001 итераций, 13.32 сек\n",
      "Среднее значение функции потерь на обучении 0.8649753184988164\n",
      "Среднее значение функции потерь на валидации 0.867987197739636\n",
      "Новая лучшая модель!\n",
      "\n",
      "Эпоха 18\n",
      "Эпоха: 2001 итераций, 11.61 сек\n",
      "Среднее значение функции потерь на обучении 0.8642499221675936\n",
      "Среднее значение функции потерь на валидации 0.8679143184525525\n",
      "Новая лучшая модель!\n",
      "\n",
      "Эпоха 19\n",
      "Эпоха: 2001 итераций, 12.51 сек\n",
      "Среднее значение функции потерь на обучении 0.8650222859461268\n",
      "Среднее значение функции потерь на валидации 0.8678855200357075\n",
      "Новая лучшая модель!\n",
      "\n",
      "Эпоха 20\n",
      "Эпоха: 2001 итераций, 12.00 сек\n",
      "Среднее значение функции потерь на обучении 0.8652718881259616\n",
      "Среднее значение функции потерь на валидации 0.8679020086243715\n",
      "\n",
      "Эпоха 21\n",
      "Эпоха: 2001 итераций, 12.07 сек\n",
      "Среднее значение функции потерь на обучении 0.8646104845149942\n",
      "Среднее значение функции потерь на валидации 0.8676999746288546\n",
      "Новая лучшая модель!\n",
      "\n",
      "Эпоха 22\n",
      "Эпоха: 2001 итераций, 11.11 сек\n",
      "Среднее значение функции потерь на обучении 0.865194633655224\n",
      "Среднее значение функции потерь на валидации 0.867708447338127\n",
      "\n",
      "Эпоха 23\n",
      "Эпоха: 2001 итераций, 12.60 сек\n",
      "Среднее значение функции потерь на обучении 0.865148492094161\n",
      "Среднее значение функции потерь на валидации 0.8676850506643351\n",
      "Новая лучшая модель!\n",
      "\n",
      "Эпоха 24\n",
      "Эпоха: 2001 итераций, 13.28 сек\n",
      "Среднее значение функции потерь на обучении 0.8644581863369005\n",
      "Среднее значение функции потерь на валидации 0.8675190559892804\n",
      "Новая лучшая модель!\n",
      "\n",
      "Эпоха 25\n",
      "Эпоха: 2001 итераций, 12.22 сек\n",
      "Среднее значение функции потерь на обучении 0.8648624957531229\n",
      "Среднее значение функции потерь на валидации 0.8675221560787817\n",
      "\n",
      "Эпоха 26\n",
      "Эпоха: 2001 итераций, 12.17 сек\n",
      "Среднее значение функции потерь на обучении 0.8639783996572976\n",
      "Среднее значение функции потерь на валидации 0.8674139303585885\n",
      "Новая лучшая модель!\n",
      "\n",
      "Эпоха 27\n",
      "Эпоха: 2001 итераций, 12.01 сек\n",
      "Среднее значение функции потерь на обучении 0.8639993409643407\n",
      "Среднее значение функции потерь на валидации 0.8674345658594161\n",
      "\n",
      "Эпоха 28\n",
      "Эпоха: 2001 итераций, 12.12 сек\n",
      "Среднее значение функции потерь на обучении 0.864472705504109\n",
      "Среднее значение функции потерь на валидации 0.8673972223200908\n",
      "Новая лучшая модель!\n",
      "\n",
      "Эпоха 29\n",
      "Эпоха: 2001 итераций, 10.70 сек\n",
      "Среднее значение функции потерь на обучении 0.8641853148135348\n",
      "Среднее значение функции потерь на валидации 0.8673433563998628\n",
      "Новая лучшая модель!\n",
      "\n",
      "Эпоха 30\n",
      "Эпоха: 2001 итераций, 11.10 сек\n",
      "Среднее значение функции потерь на обучении 0.8641169146559704\n",
      "Среднее значение функции потерь на валидации 0.8673765390379076\n",
      "\n",
      "Эпоха 31\n",
      "Эпоха: 2001 итераций, 12.49 сек\n",
      "Среднее значение функции потерь на обучении 0.8648625290852556\n",
      "Среднее значение функции потерь на валидации 0.867304842878613\n",
      "Новая лучшая модель!\n",
      "\n",
      "Эпоха 32\n",
      "Эпоха: 2001 итераций, 12.08 сек\n",
      "Среднее значение функции потерь на обучении 0.8638945982969742\n",
      "Среднее значение функции потерь на валидации 0.8673466135296285\n",
      "\n",
      "Эпоха 33\n",
      "Эпоха: 2001 итераций, 11.57 сек\n",
      "Среднее значение функции потерь на обучении 0.8637389684545582\n",
      "Среднее значение функции потерь на валидации 0.867312419432273\n",
      "\n",
      "Эпоха 34\n",
      "Эпоха: 2001 итераций, 11.85 сек\n",
      "Среднее значение функции потерь на обучении 0.8654700377057756\n",
      "Среднее значение функции потерь на валидации 0.8673737969402049\n",
      "\n"
     ]
    }
   ],
   "source": [
    "best_val_loss, best_model = train_eval_loop(trainer,\n",
    "                                            train_info,\n",
    "                                            test_info,\n",
    "                                            no_loss,\n",
    "                                            lr=1e-2,\n",
    "                                            epoch_n=35,\n",
    "                                            batch_size=8,\n",
    "                                            device='cpu',\n",
    "                                            early_stopping_patience=10,\n",
    "                                            max_batches_per_epoch_train=2000,\n",
    "                                            max_batches_per_epoch_val=len(test_info),\n",
    "                                            lr_scheduler_ctor=lambda optim: torch.optim.lr_scheduler.ReduceLROnPlateau(optim, patience=1, verbose=True))"
   ]
  },
  {
   "cell_type": "markdown",
   "id": "ad1db4da-a174-4add-b1ae-5048e6a9383f",
   "metadata": {},
   "source": [
    "## Применение модели Word2Vec через Pytorch"
   ]
  },
  {
   "cell_type": "code",
   "execution_count": 70,
   "id": "d951d0c7-563e-4f77-8cce-689ef83613ec",
   "metadata": {},
   "outputs": [],
   "source": [
    "import numpy as np\n",
    "import scipy.sparse\n",
    "\n",
    "## Класс, разработанный преподавателями. \n",
    "## Цель - Извлечь вектора по слову\n",
    "class Embeddings:\n",
    "    def __init__(self, embeddings, word2id):\n",
    "        self.embeddings = embeddings\n",
    "        self.embeddings /= (np.linalg.norm(self.embeddings, ord=2, axis=-1, keepdims=True) + 1e-4)\n",
    "        self.word2id = word2id\n",
    "        self.id2word = {i: w for w, i in word2id.items()}\n",
    "\n",
    "    def get_vector(self, word):\n",
    "        if word not in self.word2id:\n",
    "            raise ValueError('Неизвестное слово \"{}\"'.format(word))\n",
    "        return self.embeddings[self.word2id[word]]\n",
    "\n",
    "    def get_vectors(self, *words):\n",
    "        word_ids = [self.word2id[i] for i in words]\n",
    "        vectors = np.stack([self.embeddings[i] for i in word_ids], axis=0)\n",
    "        return vectors"
   ]
  },
  {
   "cell_type": "code",
   "execution_count": 83,
   "id": "3a0ca476-3731-4ca5-9e8d-1665be53c7ff",
   "metadata": {},
   "outputs": [],
   "source": [
    "from sklearn.decomposition import TruncatedSVD\n",
    "def plot_vectors(vectors, labels, how='tsne', ax=None):\n",
    "    if how == 'tsne':\n",
    "        projections = TSNE().fit_transform(vectors)\n",
    "    elif how == 'svd':\n",
    "        projections = TruncatedSVD().fit_transform(vectors)\n",
    "\n",
    "    x = projections[:, 0]\n",
    "    y = projections[:, 1]\n",
    "\n",
    "    ax.scatter(x, y)\n",
    "    for cur_x, cur_y, cur_label in zip(x, y, labels):\n",
    "        ax.annotate(cur_label, (cur_x, cur_y))"
   ]
  },
  {
   "cell_type": "code",
   "execution_count": 84,
   "id": "570326de-125f-49e1-979b-c7a56d3b1759",
   "metadata": {},
   "outputs": [],
   "source": [
    "embed = Embeddings(trainer.center_emb.weight.detach().cpu().numpy(), vocabulary)"
   ]
  },
  {
   "cell_type": "code",
   "execution_count": null,
   "id": "5675c46e-f71c-4483-97b6-0e68afc43c32",
   "metadata": {},
   "outputs": [],
   "source": []
  },
  {
   "cell_type": "code",
   "execution_count": 85,
   "id": "c897d019-049b-4cea-b1c0-2b5ffcb15eef",
   "metadata": {},
   "outputs": [
    {
     "data": {
      "image/png": "[encoded data removed]",
      "text/plain": [
       "<Figure size 1000x1000 with 1 Axes>"
      ]
     },
     "metadata": {},
     "output_type": "display_data"
    }
   ],
   "source": [
    "test_words = ['salad', 'fish', 'salmon', 'sauvignon', 'beef', 'pork', 'steak', 'beer', 'cake',\n",
    "              'coffee', 'sausage', 'wine', 'merlot', 'zinfandel', 'trout', \n",
    "              'chardonnay', 'champagne', 'cacao']\n",
    "test_vectors = embed.get_vectors(*test_words)\n",
    "\n",
    "\n",
    "fig, ax = plt.subplots()\n",
    "fig.set_size_inches((10, 10))\n",
    "plot_vectors(test_vectors, test_words, how='svd', ax=ax)\n"
   ]
  },
  {
   "cell_type": "markdown",
   "id": "f4f4e052-6029-48b8-941d-623b65f0c237",
   "metadata": {},
   "source": [
    "Три кластера - напитки, мясо, алкоголь,"
   ]
  },
  {
   "cell_type": "markdown",
   "id": "2437bbf0-9c53-408c-9390-744917356483",
   "metadata": {},
   "source": [
    "## Word2Vec при помощи Gensim"
   ]
  },
  {
   "cell_type": "code",
   "execution_count": 88,
   "id": "62e93787-a3be-4280-8f71-df5da2eda688",
   "metadata": {},
   "outputs": [],
   "source": [
    "import gensim"
   ]
  },
  {
   "cell_type": "code",
   "execution_count": 93,
   "id": "dbe8f6de-47ae-4b64-bb30-fb4a33e54c41",
   "metadata": {},
   "outputs": [],
   "source": [
    "word2vec = gensim.models.Word2Vec(sentences=train_tokens, vector_size=100,\n",
    "                                  window=5, min_count=5, workers=4,\n",
    "                                  sg=1, epochs=10)"
   ]
  },
  {
   "cell_type": "code",
   "execution_count": 94,
   "id": "51c1f065-2394-48e0-af65-488513f96815",
   "metadata": {},
   "outputs": [],
   "source": [
    "gensim_words = [w for w in test_words if w in word2vec.wv.key_to_index]\n",
    "gensim_vectors = np.stack([word2vec.wv[w] for w in gensim_words])"
   ]
  },
  {
   "cell_type": "code",
   "execution_count": 95,
   "id": "201dd6d9-f269-42c4-a235-9c78a6827f0b",
   "metadata": {},
   "outputs": [
    {
     "data": {
      "image/png": "[encoded data removed]",
      "text/plain": [
       "<Figure size 1000x1000 with 1 Axes>"
      ]
     },
     "metadata": {},
     "output_type": "display_data"
    }
   ],
   "source": [
    "fig, ax = plt.subplots()\n",
    "fig.set_size_inches((10, 10))\n",
    "plot_vectors(gensim_vectors, test_words, how='svd', ax=ax)"
   ]
  },
  {
   "cell_type": "markdown",
   "id": "6e69de97-674d-4031-b3a0-93e77e66ba3a",
   "metadata": {},
   "source": [
    "Три кластера - напитки, мясо, алкоголь"
   ]
  },
  {
   "cell_type": "markdown",
   "id": "d610503b-1b0b-44e1-b21d-c16fbe18efb3",
   "metadata": {},
   "source": [
    "# В данном .ipynb приведены две реализации Word2Vec с точки зрения дистрибутивной семантики (векторов смыслов) - через Pytorch и Gensim"
   ]
  },
  {
   "cell_type": "code",
   "execution_count": null,
   "id": "a9adfa06-942c-40e5-b598-48ccaa6ce8b3",
   "metadata": {},
   "outputs": [],
   "source": []
  }
 ],
 "metadata": {
  "kernelspec": {
   "display_name": "Python 3 (ipykernel)",
   "language": "python",
   "name": "python3"
  },
  "language_info": {
   "codemirror_mode": {
    "name": "ipython",
    "version": 3
   },
   "file_extension": ".py",
   "mimetype": "text/x-python",
   "name": "python",
   "nbconvert_exporter": "python",
   "pygments_lexer": "ipython3",
   "version": "3.10.12"
  }
 },
 "nbformat": 4,
 "nbformat_minor": 5
}
